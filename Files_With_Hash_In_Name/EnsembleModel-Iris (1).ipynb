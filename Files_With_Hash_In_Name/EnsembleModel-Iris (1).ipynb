{
 "cells": [
  {
   "cell_type": "markdown",
   "metadata": {},
   "source": [
    "##  Iris classification"
   ]
  },
  {
   "cell_type": "code",
   "execution_count": 19,
   "metadata": {},
   "outputs": [],
   "source": [
    "from mosaicml import *\n",
    "from mosaicml.constants import MLModelFlavours\n",
    "from sklearn.model_selection import train_test_split\n",
    "from sklearn.ensemble import RandomForestClassifier\n",
    "from sklearn import datasets\n",
    "from sklearn import svm"
   ]
  },
  {
   "cell_type": "code",
   "execution_count": 20,
   "metadata": {},
   "outputs": [],
   "source": [
    "iris = datasets.load_iris()\n",
    "digits = datasets.load_digits()\n",
    "X = iris.data\n",
    "y = iris.target"
   ]
  },
  {
   "cell_type": "markdown",
   "metadata": {},
   "source": [
    "# IRIS First Model Creation"
   ]
  },
  {
   "cell_type": "code",
   "execution_count": 21,
   "metadata": {},
   "outputs": [],
   "source": [
    "clf = RandomForestClassifier(random_state=0, n_jobs=-1)"
   ]
  },
  {
   "cell_type": "code",
   "execution_count": 22,
   "metadata": {},
   "outputs": [],
   "source": [
    "xtrain, xtest, ytrain, ytest = train_test_split(X,y,test_size=0.2, random_state=0)\n",
    "clf = clf.fit(xtrain, ytrain)"
   ]
  },
  {
   "cell_type": "code",
   "execution_count": 23,
   "metadata": {},
   "outputs": [
    {
     "name": "stdout",
     "output_type": "stream",
     "text": [
      "(30, 4)\n",
      "(30,)\n",
      "(120, 4)\n",
      "(120,)\n"
     ]
    }
   ],
   "source": [
    "y_pred=clf.predict(xtest)\n",
    "print(xtest.shape)\n",
    "print(ytest.shape)\n",
    "print(xtrain.shape)\n",
    "print(ytrain.shape)"
   ]
  },
  {
   "cell_type": "code",
   "execution_count": 24,
   "metadata": {},
   "outputs": [],
   "source": [
    "prob=clf.predict_proba(xtest)\n",
    "#print(prob)\n",
    "prob1=prob[:,1]"
   ]
  },
  {
   "cell_type": "markdown",
   "metadata": {},
   "source": [
    "# Iris Second Model Creation"
   ]
  },
  {
   "cell_type": "code",
   "execution_count": 25,
   "metadata": {},
   "outputs": [
    {
     "name": "stdout",
     "output_type": "stream",
     "text": [
      "(38, 4)\n",
      "(38,)\n",
      "(112, 4)\n",
      "(112,)\n"
     ]
    }
   ],
   "source": [
    "clf_2 = RandomForestClassifier(random_state=123, n_jobs=10)\n",
    "xtrain2, xtest2, ytrain2, ytest2 = train_test_split(X,y,test_size=0.25, random_state=123)\n",
    "clf_2 = clf_2.fit(xtrain2, ytrain2)\n",
    "y_pred2=clf_2.predict(xtest2)\n",
    "print(xtest2.shape)\n",
    "print(ytest2.shape)\n",
    "print(xtrain2.shape)\n",
    "print(ytrain2.shape)\n",
    "prob_2=clf_2.predict_proba(xtest2)[:,1]"
   ]
  },
  {
   "cell_type": "markdown",
   "metadata": {},
   "source": [
    "### score 1st Model"
   ]
  },
  {
   "cell_type": "code",
   "execution_count": 26,
   "metadata": {},
   "outputs": [],
   "source": [
    "@scoring_func\n",
    "def score_1(model, request):\n",
    "    import numpy\n",
    "    payload = request.json[\"payload\"]\n",
    "    data_list = payload\n",
    "    data_array = numpy.asarray(data_list)\n",
    "    prediction = model.predict(data_array)\n",
    "    return prediction.tolist()"
   ]
  },
  {
   "cell_type": "markdown",
   "metadata": {},
   "source": [
    "### score 2nd Model"
   ]
  },
  {
   "cell_type": "code",
   "execution_count": 27,
   "metadata": {},
   "outputs": [],
   "source": [
    "@scoring_func\n",
    "def score_2(model, request):\n",
    "    import numpy\n",
    "    payload = request.json[\"payload\"]\n",
    "    data_list = payload\n",
    "    data_array = numpy.asarray(data_list)\n",
    "    prediction = model.predict(data_array)\n",
    "    return prediction.tolist()"
   ]
  },
  {
   "cell_type": "code",
   "execution_count": 28,
   "metadata": {},
   "outputs": [],
   "source": [
    "import requests\n",
    "req = requests.Request()\n",
    "req.json = {\"payload\":[[5.8, 2.8, 5.1, 2.4],\n",
    "       [6.0 , 2.2, 4.0 , 1.0 ]]}"
   ]
  },
  {
   "cell_type": "code",
   "execution_count": 29,
   "metadata": {},
   "outputs": [
    {
     "data": {
      "text/plain": [
       "array([[5.8, 2.8, 5.1, 2.4],\n",
       "       [6. , 2.2, 4. , 1. ]])"
      ]
     },
     "execution_count": 29,
     "metadata": {},
     "output_type": "execute_result"
    }
   ],
   "source": [
    "xtest[:2]"
   ]
  },
  {
   "cell_type": "code",
   "execution_count": 30,
   "metadata": {},
   "outputs": [],
   "source": [
    "we=score_1(clf,req)"
   ]
  },
  {
   "cell_type": "code",
   "execution_count": 31,
   "metadata": {},
   "outputs": [],
   "source": [
    "import numpy as np\n",
    "per = np.array(we)\n"
   ]
  },
  {
   "cell_type": "code",
   "execution_count": 32,
   "metadata": {},
   "outputs": [
    {
     "data": {
      "text/plain": [
       "array([1. , 0.5])"
      ]
     },
     "execution_count": 32,
     "metadata": {},
     "output_type": "execute_result"
    }
   ],
   "source": [
    "per*0.5"
   ]
  },
  {
   "cell_type": "code",
   "execution_count": 33,
   "metadata": {},
   "outputs": [
    {
     "data": {
      "text/plain": [
       "array([6.3, 2.5, 4.9, 1.5])"
      ]
     },
     "execution_count": 33,
     "metadata": {},
     "output_type": "execute_result"
    }
   ],
   "source": [
    "xtest2[0]"
   ]
  },
  {
   "cell_type": "code",
   "execution_count": 34,
   "metadata": {},
   "outputs": [],
   "source": [
    "import requests\n",
    "req2 = requests.Request()\n",
    "req2.json = {\"payload\":[[6.3, 2.5, 4.9, 1.5]]}"
   ]
  },
  {
   "cell_type": "code",
   "execution_count": 35,
   "metadata": {},
   "outputs": [
    {
     "data": {
      "text/plain": [
       "[1]"
      ]
     },
     "execution_count": 35,
     "metadata": {},
     "output_type": "execute_result"
    }
   ],
   "source": [
    "score_2(clf_2,req2)"
   ]
  },
  {
   "cell_type": "markdown",
   "metadata": {},
   "source": [
    "# Registering 1st model"
   ]
  },
  {
   "cell_type": "code",
   "execution_count": 36,
   "metadata": {},
   "outputs": [
    {
     "name": "stdout",
     "output_type": "stream",
     "text": [
      "Calculating build time metrics\n",
      "\n",
      "Progress: ██████████████████████████████████████████████████████████████████████ 100.0%\n"
     ]
    },
    {
     "name": "stderr",
     "output_type": "stream",
     "text": [
      "2020-10-21 11:01:00,234 - skater.core.explanations - WARNING - Progress bars slow down runs by 10-20%. For slightly \n",
      "faster runs, do progressbar=False\n",
      "2020-10-21 11:01:00,331 - skater.core.explanations - WARNING - Multiprocessing failed, going single process\n"
     ]
    },
    {
     "name": "stdout",
     "output_type": "stream",
     "text": [
      "[25/25] grid cells ████████████████████ Time elapsed: 6 seconds"
     ]
    },
    {
     "name": "stderr",
     "output_type": "stream",
     "text": [
      "2020-10-21 11:01:09,131 - skater.core.explanations - WARNING - Progress bars slow down runs by 10-20%. For slightly \n",
      "faster runs, do progressbar=False\n",
      "2020-10-21 11:01:09,136 - skater.core.explanations - WARNING - Multiprocessing failed, going single process\n"
     ]
    },
    {
     "name": "stdout",
     "output_type": "stream",
     "text": [
      "[22/22] grid cells ████████████████████ Time elapsed: 5 seconds"
     ]
    },
    {
     "name": "stderr",
     "output_type": "stream",
     "text": [
      "2020-10-21 11:01:16,932 - skater.core.explanations - WARNING - Progress bars slow down runs by 10-20%. For slightly \n",
      "faster runs, do progressbar=False\n",
      "2020-10-21 11:01:16,937 - skater.core.explanations - WARNING - Multiprocessing failed, going single process\n"
     ]
    },
    {
     "name": "stdout",
     "output_type": "stream",
     "text": [
      "[25/25] grid cells ████████████████████ Time elapsed: 6 seconds"
     ]
    },
    {
     "name": "stderr",
     "output_type": "stream",
     "text": [
      "2020-10-21 11:01:25,831 - skater.core.explanations - WARNING - Progress bars slow down runs by 10-20%. For slightly \n",
      "faster runs, do progressbar=False\n",
      "2020-10-21 11:01:25,834 - skater.core.explanations - WARNING - Multiprocessing failed, going single process\n"
     ]
    },
    {
     "name": "stdout",
     "output_type": "stream",
     "text": [
      "[22/22] grid cells ████████████████████ Time elapsed: 6 seconds"
     ]
    },
    {
     "name": "stderr",
     "output_type": "stream",
     "text": [
      "2020-10-21 11:01:34,247 - skater.core.explanations - WARNING - Progress bars slow down runs by 10-20%. For slightly \n",
      "faster runs, do progress_bar=False\n",
      "2020-10-21 11:01:34,332 - skater.core.explanations - WARNING - Multiprocessing failed, going single process\n"
     ]
    },
    {
     "name": "stdout",
     "output_type": "stream",
     "text": [
      "[4/4] features ████████████████████ Time elapsed: 1 seconds"
     ]
    },
    {
     "name": "stderr",
     "output_type": "stream",
     "text": [
      "2020-10-21 11:01:36,789 - skater.core.global_interpretation.tree_surrogate - INFO - post pruning applied ...\n",
      "2020-10-21 11:01:36,795 - skater.core.global_interpretation.tree_surrogate - INFO - Scorer used cross-entropy\n",
      "2020-10-21 11:01:36,798 - skater.core.global_interpretation.tree_surrogate - INFO - original score using base model 2.1094237467877998e-15\n",
      "2020-10-21 11:01:36,932 - skater.core.global_interpretation.tree_surrogate - INFO - Summary: childrens of the following nodes are removed []\n",
      "2020-10-21 11:01:36,934 - skater.core.global_interpretation.tree_surrogate - INFO - Done generating prediction using the surrogate, shape (120, 3)\n",
      "2020-10-21 11:01:36,937 - skater.core.global_interpretation.tree_surrogate - INFO - Done scoring, surrogate score 0.0; oracle score 0.034\n",
      "2020-10-21 11:01:36,938 - skater.core.global_interpretation.tree_surrogate - WARNING - impurity score: 0.034 of the surrogate model is higher than the impurity threshold: 0.01. The higher the impurity score, lower is the fidelity/faithfulness of the surrogate model\n"
     ]
    },
    {
     "data": {
      "text/plain": [
       "{'created_by': 'amit.boke@lntinfotech.com',\n",
       " 'created_on': '2020-10-21T11:00:53+00:00',\n",
       " 'deploymentstatus': False,\n",
       " 'description': 'sklearn_iris_v11_a',\n",
       " 'flavour': 'sklearn',\n",
       " 'id': 'e27cce6c-119f-433a-9e1a-2b6efc2f4b85',\n",
       " 'last_modified_by': 'amit.boke@lntinfotech.com',\n",
       " 'last_modified_on': '2020-10-21T11:00:53+00:00',\n",
       " 'name': 'sklearn_iris_v11_a',\n",
       " 'project_id': 'b9c02804-b1ca-4103-a3e6-43d454a6ef8a',\n",
       " 'type': 'model',\n",
       " 'versions': [{'created_by': 'amit.boke@lntinfotech.com',\n",
       "   'created_on': '2020-10-21T11:00:53+00:00',\n",
       "   'datasource_name': '',\n",
       "   'deploy_info': None,\n",
       "   'deployments': [],\n",
       "   'description': None,\n",
       "   'docker_image_url': 'registry.lti-aiq.in:443/mosaic-ai-logistics/mosaic-ai-serving:1.0.0-30092020',\n",
       "   'id': '557d00dd-681c-46a4-bab8-1fdfb5decc6d',\n",
       "   'init_script': '\"pip install --user absl-py==0.10.0\\\\n pip install --user alembic==1.4.3\\\\n pip install --user astor==0.8.1\\\\n pip install --user astroid==2.3.3\\\\n pip install --user async-generator==1.10\\\\n pip install --user attrs==19.3.0\\\\n pip install --user backcall==0.2.0\\\\n pip install --user beautifulsoup4==4.9.3\\\\n pip install --user bleach==3.1.5\\\\n pip install --user blis==0.4.1\\\\n pip install --user bokeh==2.1.1\\\\n pip install --user bs4==0.0.1\\\\n pip install --user cachetools==4.1.1\\\\n pip install --user category-encoders==2.2.2\\\\n pip install --user certifi==2020.6.20\\\\n pip install --user chardet==3.0.4\\\\n pip install --user click==7.1.2\\\\n pip install --user cloudpickle==1.2.2\\\\n pip install --user colorama==0.4.3\\\\n pip install --user commonmark==0.9.1\\\\n pip install --user coverage==5.3\\\\n pip install --user cycler==0.10.0\\\\n pip install --user cymem==2.0.3\\\\n pip install --user dask==2.30.0\\\\n pip install --user dataclasses==0.7\\\\n pip install --user deap==1.3.1\\\\n pip install --user decorator==4.4.2\\\\n pip install --user defusedxml==0.6.0\\\\n pip install --user dill==0.3.2\\\\n pip install --user ds-lime==0.1.1.27\\\\n pip install --user entrypoints==0.3\\\\n pip install --user flasgger==0.9.3\\\\n pip install --user Flask==1.1.1\\\\n pip install --user Flask-Cors==3.0.8\\\\n pip install --user Flask-SQLAlchemy==2.4.3\\\\n pip install --user fonttools==4.16.1\\\\n pip install --user future==0.18.2\\\\n pip install --user gast==0.4.0\\\\n pip install --user google-auth==1.22.1\\\\n pip install --user google-pasta==0.2.0\\\\n pip install --user grpcio==1.32.0\\\\n pip install --user gunicorn==19.9.0\\\\n pip install --user h5py==2.10.0\\\\n pip install --user holoviews==1.13.4\\\\n pip install --user idna==2.8\\\\n pip install --user importlib-metadata==1.7.0\\\\n pip install --user iniconfig==1.0.1\\\\n pip install --user ipykernel==5.3.1\\\\n pip install --user ipyplot==1.0.5\\\\n pip install --user ipython==7.16.1\\\\n pip install --user ipython-genutils==0.2.0\\\\n pip install --user ipywidgets==7.5.1\\\\n pip install --user isort==4.3.21\\\\n pip install --user itsdangerous==1.1.0\\\\n pip install --user jedi==0.17.1\\\\n pip install --user Jinja2==2.11.2\\\\n pip install --user joblib==0.11\\\\n pip install --user jsonpickle==1.2\\\\n pip install --user jsonschema==3.2.0\\\\n pip install --user jupyter==1.0.0\\\\n pip install --user jupyter-client==6.1.5\\\\n pip install --user jupyter-console==6.1.0\\\\n pip install --user jupyter-core==4.6.3\\\\n pip install --user jupyterhub==0.9.4\\\\n pip install --user Keras==2.2.4\\\\n pip install --user Keras-Applications==1.0.8\\\\n pip install --user Keras-Preprocessing==1.1.2\\\\n pip install --user kiwisolver==1.2.0\\\\n pip install --user kubernetes==9.0.0\\\\n pip install --user kyd==0.1.8\\\\n pip install --user lazy-object-proxy==1.4.3\\\\n pip install --user Mako==1.1.3\\\\n pip install --user Markdown==3.3\\\\n pip install --user MarkupSafe==1.1.1\\\\n pip install --user matplotlib==3.1.1\\\\n pip install --user mccabe==0.6.1\\\\n pip install --user minio==4.0.18\\\\n pip install --user mistune==0.8.4\\\\n pip install --user multiprocess==0.70.10\\\\n pip install --user murmurhash==1.0.2\\\\n pip install --user mysql-connector-python==8.0.17\\\\n pip install --user mysql-connector-python-rf==2.2.2\\\\n pip install --user nbconvert==5.6.1\\\\n pip install --user nbformat==5.0.7\\\\n pip install --user networkx==2.5\\\\n pip install --user nltk==3.5\\\\n pip install --user nose==1.3.7\\\\n pip install --user notebook==5.7.0\\\\n pip install --user numpy==1.17.0\\\\n pip install --user oauthlib==3.1.0\\\\n pip install --user packaging==20.4\\\\n pip install --user pamela==1.0.0\\\\n pip install --user pandas==0.25.1\\\\n pip install --user pandas-profiling==1.4.2\\\\n pip install --user pandocfilters==1.4.2\\\\n pip install --user panel==0.9.7\\\\n pip install --user param==1.9.3\\\\n pip install --user parso==0.7.0\\\\n pip install --user patsy==0.5.1\\\\n pip install --user pexpect==4.8.0\\\\n pip install --user pickleshare==0.7.5\\\\n pip install --user Pillow==7.2.0\\\\n pip install --user plac==1.1.3\\\\n pip install --user pluggy==0.13.1\\\\n pip install --user preshed==3.0.2\\\\n pip install --user prometheus-client==0.8.0\\\\n pip install --user prompt-toolkit==3.0.5\\\\n pip install --user protobuf==3.13.0\\\\n pip install --user ptyprocess==0.6.0\\\\n pip install --user py==1.9.0\\\\n pip install --user py-dateinfer==0.4.5\\\\n pip install --user py4j==0.10.4\\\\n pip install --user pyasn1==0.4.8\\\\n pip install --user pyasn1-modules==0.2.8\\\\n pip install --user pyct==0.4.8\\\\n pip install --user pydotplus==2.0.2\\\\n pip install --user Pygments==2.6.1\\\\n pip install --user PyJWT==1.7.1\\\\n pip install --user pylint==2.4.4\\\\n pip install --user PyMySQL==0.10.1\\\\n pip install --user pyparsing==2.4.7\\\\n pip install --user pyrsistent==0.16.0\\\\n pip install --user pyspark==2.1.2\\\\n pip install --user pytest==6.1.1\\\\n pip install --user python-dateutil==2.8.1\\\\n pip install --user python-editor==1.0.4\\\\n pip install --user python-oauth2==1.1.1\\\\n pip install --user pytz==2020.1\\\\n pip install --user pyviz-comms==0.7.6\\\\n pip install --user PyWavelets==1.1.1\\\\n pip install --user PyYAML==5.1.2\\\\n pip install --user pyzmq==19.0.1\\\\n pip install --user qgrid==1.3.1\\\\n pip install --user qtconsole==4.7.5\\\\n pip install --user QtPy==1.9.0\\\\n pip install --user regex==2020.9.27\\\\n pip install --user requests==2.22.0\\\\n pip install --user requests-oauthlib==1.3.0\\\\n pip install --user requests-toolbelt==0.9.1\\\\n pip install --user rich==8.0.0\\\\n pip install --user rsa==4.6\\\\n pip install --user scikit-image==0.14.0\\\\n pip install --user scikit-learn==0.21.3\\\\n pip install --user scipy==1.5.2\\\\n pip install --user Send2Trash==1.5.0\\\\n pip install --user setuptools==49.1.0\\\\n pip install --user simplejson==3.16.0\\\\n pip install --user six==1.15.0\\\\n pip install --user skater==1.1.2\\\\n pip install --user sklearn==0.0\\\\n pip install --user socketIO-client==0.7.2\\\\n pip install --user soupsieve==2.0.1\\\\n pip install --user spacy==2.2.2\\\\n pip install --user SQLAlchemy==1.3.18\\\\n pip install --user srsly==1.0.2\\\\n pip install --user statsmodels==0.12.0\\\\n pip install --user stopit==1.1.2\\\\n pip install --user tabulate==0.8.7\\\\n pip install --user tensorboard==1.14.0\\\\n pip install --user tensorflow==1.14.0\\\\n pip install --user tensorflow-estimator==1.14.0\\\\n pip install --user termcolor==1.1.0\\\\n pip install --user terminado==0.8.3\\\\n pip install --user testpath==0.4.4\\\\n pip install --user thinc==7.3.1\\\\n pip install --user toml==0.10.1\\\\n pip install --user toolz==0.11.1\\\\n pip install --user torch==1.2.0\\\\n pip install --user torchvision==0.4.0\\\\n pip install --user tornado==5.1.1\\\\n pip install --user tqdm==4.50.0\\\\n pip install --user traitlets==4.3.3\\\\n pip install --user typed-ast==1.4.1\\\\n pip install --user typing-extensions==3.7.4.3\\\\n pip install --user update-checker==0.18.0\\\\n pip install --user urllib3==1.25.10\\\\n pip install --user wasabi==0.8.0\\\\n pip install --user wcwidth==0.2.5\\\\n pip install --user webencodings==0.5.1\\\\n pip install --user websocket-client==0.57.0\\\\n pip install --user Werkzeug==1.0.1\\\\n pip install --user wheel==0.34.2\\\\n pip install --user widgetsnbextension==3.5.1\\\\n pip install --user wordcloud==1.3.1\\\\n pip install --user wrapt==1.11.2\\\\n pip install --user xgboost==0.90\\\\n pip install --user zipp==3.1.0\\\\n \\\\n\"',\n",
       "   'input_type': 'json',\n",
       "   'last_modified_by': 'amit.boke@lntinfotech.com',\n",
       "   'last_modified_on': '2020-10-21T11:01:00+00:00',\n",
       "   'metadata_info': None,\n",
       "   'ml_model_id': 'e27cce6c-119f-433a-9e1a-2b6efc2f4b85',\n",
       "   'model_class': {'base_estimator': \"DecisionTreeClassifier(class_weight=None, criterion='gini', max_depth=None,\\n                       max_features=None, max_leaf_nodes=None,\\n                       min_impurity_decrease=0.0, min_impurity_split=None,\\n                       min_samples_leaf=1, min_samples_split=2,\\n                       min_weight_fraction_leaf=0.0, presort=False,\\n                       random_state=None, splitter='best')\",\n",
       "    'base_estimator_': \"DecisionTreeClassifier(class_weight=None, criterion='gini', max_depth=None,\\n                       max_features=None, max_leaf_nodes=None,\\n                       min_impurity_decrease=0.0, min_impurity_split=None,\\n                       min_samples_leaf=1, min_samples_split=2,\\n                       min_weight_fraction_leaf=0.0, presort=False,\\n                       random_state=None, splitter='best')\",\n",
       "    'bootstrap': True,\n",
       "    'class': 'sklearn.ensemble.forest.RandomForestClassifier',\n",
       "    'class_weight': None,\n",
       "    'classes_': [0, 1, 2],\n",
       "    'criterion': 'gini',\n",
       "    'estimator_params': ['criterion',\n",
       "     'max_depth',\n",
       "     'min_samples_split',\n",
       "     'min_samples_leaf',\n",
       "     'min_weight_fraction_leaf',\n",
       "     'max_features',\n",
       "     'max_leaf_nodes',\n",
       "     'min_impurity_decrease',\n",
       "     'min_impurity_split',\n",
       "     'random_state'],\n",
       "    'estimators_': [\"DecisionTreeClassifier(class_weight=None, criterion='gini', max_depth=None,\\n                       max_features='auto', max_leaf_nodes=None,\\n                       min_impurity_decrease=0.0, min_impurity_split=None,\\n                       min_samples_leaf=1, min_samples_split=2,\\n                       min_weight_fraction_leaf=0.0, presort=False,\\n                       random_state=209652396, splitter='best')\",\n",
       "     \"DecisionTreeClassifier(class_weight=None, criterion='gini', max_depth=None,\\n                       max_features='auto', max_leaf_nodes=None,\\n                       min_impurity_decrease=0.0, min_impurity_split=None,\\n                       min_samples_leaf=1, min_samples_split=2,\\n                       min_weight_fraction_leaf=0.0, presort=False,\\n                       random_state=398764591, splitter='best')\",\n",
       "     \"DecisionTreeClassifier(class_weight=None, criterion='gini', max_depth=None,\\n                       max_features='auto', max_leaf_nodes=None,\\n                       min_impurity_decrease=0.0, min_impurity_split=None,\\n                       min_samples_leaf=1, min_samples_split=2,\\n                       min_weight_fraction_leaf=0.0, presort=False,\\n                       random_state=924231285, splitter='best')\",\n",
       "     \"DecisionTreeClassifier(class_weight=None, criterion='gini', max_depth=None,\\n                       max_features='auto', max_leaf_nodes=None,\\n                       min_impurity_decrease=0.0, min_impurity_split=None,\\n                       min_samples_leaf=1, min_samples_split=2,\\n                       min_weight_fraction_leaf=0.0, presort=False,\\n                       random_state=1478610112, splitter='best')\",\n",
       "     \"DecisionTreeClassifier(class_weight=None, criterion='gini', max_depth=None,\\n                       max_features='auto', max_leaf_nodes=None,\\n                       min_impurity_decrease=0.0, min_impurity_split=None,\\n                       min_samples_leaf=1, min_samples_split=2,\\n                       min_weight_fraction_leaf=0.0, presort=False,\\n                       random_state=441365315, splitter='best')\",\n",
       "     \"DecisionTreeClassifier(class_weight=None, criterion='gini', max_depth=None,\\n                       max_features='auto', max_leaf_nodes=None,\\n                       min_impurity_decrease=0.0, min_impurity_split=None,\\n                       min_samples_leaf=1, min_samples_split=2,\\n                       min_weight_fraction_leaf=0.0, presort=False,\\n                       random_state=1537364731, splitter='best')\",\n",
       "     \"DecisionTreeClassifier(class_weight=None, criterion='gini', max_depth=None,\\n                       max_features='auto', max_leaf_nodes=None,\\n                       min_impurity_decrease=0.0, min_impurity_split=None,\\n                       min_samples_leaf=1, min_samples_split=2,\\n                       min_weight_fraction_leaf=0.0, presort=False,\\n                       random_state=192771779, splitter='best')\",\n",
       "     \"DecisionTreeClassifier(class_weight=None, criterion='gini', max_depth=None,\\n                       max_features='auto', max_leaf_nodes=None,\\n                       min_impurity_decrease=0.0, min_impurity_split=None,\\n                       min_samples_leaf=1, min_samples_split=2,\\n                       min_weight_fraction_leaf=0.0, presort=False,\\n                       random_state=1491434855, splitter='best')\",\n",
       "     \"DecisionTreeClassifier(class_weight=None, criterion='gini', max_depth=None,\\n                       max_features='auto', max_leaf_nodes=None,\\n                       min_impurity_decrease=0.0, min_impurity_split=None,\\n                       min_samples_leaf=1, min_samples_split=2,\\n                       min_weight_fraction_leaf=0.0, presort=False,\\n                       random_state=1819583497, splitter='best')\",\n",
       "     \"DecisionTreeClassifier(class_weight=None, criterion='gini', max_depth=None,\\n                       max_features='auto', max_leaf_nodes=None,\\n                       min_impurity_decrease=0.0, min_impurity_split=None,\\n                       min_samples_leaf=1, min_samples_split=2,\\n                       min_weight_fraction_leaf=0.0, presort=False,\\n                       random_state=530702035, splitter='best')\"],\n",
       "    'max_depth': None,\n",
       "    'max_features': 'auto',\n",
       "    'max_leaf_nodes': None,\n",
       "    'min_impurity_decrease': 0,\n",
       "    'min_impurity_split': None,\n",
       "    'min_samples_leaf': 1,\n",
       "    'min_samples_split': 2,\n",
       "    'min_weight_fraction_leaf': 0,\n",
       "    'n_classes_': 3,\n",
       "    'n_estimators': 10,\n",
       "    'n_features_': 4,\n",
       "    'n_jobs': -1,\n",
       "    'n_outputs_': 1,\n",
       "    'oob_score': False,\n",
       "    'random_state': 0,\n",
       "    'verbose': 0,\n",
       "    'warm_start': False},\n",
       "   'model_info': {'deep_learning_model': False,\n",
       "    'feature_names': ['sepal length (cm)',\n",
       "     'sepal width (cm)',\n",
       "     'petal length (cm)',\n",
       "     'petal width (cm)'],\n",
       "    'min_max_features': [{'data_type': 'numerical',\n",
       "      'feature_name': 'sepal length (cm)',\n",
       "      'max': 7,\n",
       "      'min': 4},\n",
       "     {'data_type': 'numerical',\n",
       "      'feature_name': 'sepal width (cm)',\n",
       "      'max': 4,\n",
       "      'min': 2},\n",
       "     {'data_type': 'numerical',\n",
       "      'feature_name': 'petal length (cm)',\n",
       "      'max': 6,\n",
       "      'min': 1},\n",
       "     {'data_type': 'numerical',\n",
       "      'feature_name': 'petal width (cm)',\n",
       "      'max': 2,\n",
       "      'min': 0}],\n",
       "    'mode': 'classification',\n",
       "    'number_of_features': 4,\n",
       "    'target_names': ['setosa', 'versicolor', 'virginica'],\n",
       "    'temp_dir': ''},\n",
       "   'object_url': 'e27cce6c-119f-433a-9e1a-2b6efc2f4b85/557d00dd-681c-46a4-bab8-1fdfb5decc6d/ml_model.tar.gz',\n",
       "   'profiling': [],\n",
       "   'schema': {},\n",
       "   'status': 'active',\n",
       "   'target_names': {'target': ['setosa', 'versicolor', 'virginica']},\n",
       "   'version_no': 1,\n",
       "   'detailed_matrix': '{\"tag\": \"detailed_matrix\", \"model_metric_value\": {\"Accuracy Score\": 0.9666666666666667, \"Average Precision Score\": null, \"Balanced Accuracy Score\": 0.9444444444444445, \"Brier Score Loss\": null, \"Matthews Correlation Coefficient\": 0.9488580359780636, \"F1 Score\": 0.9657687991021324, \"F-beta Score\": 0.9671869193608323, \"Log Loss\": null, \"Precision Score\": 0.9690476190476189, \"Recall Score\": 0.9666666666666667, \"Zero One Loss\": 0.033333333333333326}}'}]}"
      ]
     },
     "execution_count": 36,
     "metadata": {},
     "output_type": "execute_result"
    }
   ],
   "source": [
    "register_model(clf,\n",
    "                score_1,\n",
    "                \"sklearn_iris_v11_a\",\n",
    "                \"sklearn_iris_v11_a\",\n",
    "                MLModelFlavours.sklearn,\n",
    "                input_type=\"json\",\n",
    "                explain_ai=True,\n",
    "                x_train=xtrain, \n",
    "                y_train=ytrain,\n",
    "                y_true=ytest,\n",
    "                y_pred=y_pred,\n",
    "                model_type=\"classification\",\n",
    "                prob=prob1,\n",
    "                feature_names=iris.feature_names,\n",
    "                feature_ids=iris.feature_names,\n",
    "                target_names=iris.target_names.tolist()\n",
    "              )"
   ]
  },
  {
   "cell_type": "markdown",
   "metadata": {},
   "source": [
    "# Registering 2nd model"
   ]
  },
  {
   "cell_type": "code",
   "execution_count": 37,
   "metadata": {},
   "outputs": [
    {
     "name": "stdout",
     "output_type": "stream",
     "text": [
      "Calculating build time metrics\n",
      "\n",
      "Progress: ██████████████████████████████████████████████████████████████████████ 100.0%\n"
     ]
    },
    {
     "name": "stderr",
     "output_type": "stream",
     "text": [
      "2020-10-21 11:02:16,134 - skater.core.explanations - WARNING - Progress bars slow down runs by 10-20%. For slightly \n",
      "faster runs, do progressbar=False\n",
      "2020-10-21 11:02:16,230 - skater.core.explanations - WARNING - Multiprocessing failed, going single process\n"
     ]
    },
    {
     "name": "stdout",
     "output_type": "stream",
     "text": [
      "[25/25] grid cells ████████████████████ Time elapsed: 6 seconds"
     ]
    },
    {
     "name": "stderr",
     "output_type": "stream",
     "text": [
      "2020-10-21 11:02:27,331 - skater.core.explanations - WARNING - Progress bars slow down runs by 10-20%. For slightly \n",
      "faster runs, do progressbar=False\n",
      "2020-10-21 11:02:27,336 - skater.core.explanations - WARNING - Multiprocessing failed, going single process\n"
     ]
    },
    {
     "name": "stdout",
     "output_type": "stream",
     "text": [
      "[22/22] grid cells ████████████████████ Time elapsed: 6 seconds"
     ]
    },
    {
     "name": "stderr",
     "output_type": "stream",
     "text": [
      "2020-10-21 11:02:35,831 - skater.core.explanations - WARNING - Progress bars slow down runs by 10-20%. For slightly \n",
      "faster runs, do progressbar=False\n",
      "2020-10-21 11:02:35,836 - skater.core.explanations - WARNING - Multiprocessing failed, going single process\n"
     ]
    },
    {
     "name": "stdout",
     "output_type": "stream",
     "text": [
      "[24/24] grid cells ████████████████████ Time elapsed: 6 seconds"
     ]
    },
    {
     "name": "stderr",
     "output_type": "stream",
     "text": [
      "2020-10-21 11:02:44,031 - skater.core.explanations - WARNING - Progress bars slow down runs by 10-20%. For slightly \n",
      "faster runs, do progressbar=False\n",
      "2020-10-21 11:02:44,035 - skater.core.explanations - WARNING - Multiprocessing failed, going single process\n"
     ]
    },
    {
     "name": "stdout",
     "output_type": "stream",
     "text": [
      "[21/21] grid cells ████████████████████ Time elapsed: 5 seconds"
     ]
    },
    {
     "name": "stderr",
     "output_type": "stream",
     "text": [
      "2020-10-21 11:02:52,033 - skater.core.explanations - WARNING - Progress bars slow down runs by 10-20%. For slightly \n",
      "faster runs, do progress_bar=False\n",
      "2020-10-21 11:02:52,036 - skater.core.explanations - WARNING - Multiprocessing failed, going single process\n"
     ]
    },
    {
     "name": "stdout",
     "output_type": "stream",
     "text": [
      "[4/4] features ████████████████████ Time elapsed: 1 seconds"
     ]
    },
    {
     "name": "stderr",
     "output_type": "stream",
     "text": [
      "2020-10-21 11:02:54,667 - skater.core.global_interpretation.tree_surrogate - INFO - post pruning applied ...\n",
      "2020-10-21 11:02:54,672 - skater.core.global_interpretation.tree_surrogate - INFO - Scorer used cross-entropy\n",
      "2020-10-21 11:02:54,675 - skater.core.global_interpretation.tree_surrogate - INFO - original score using base model 2.1094237467878e-15\n",
      "2020-10-21 11:02:54,735 - skater.core.global_interpretation.tree_surrogate - INFO - Summary: childrens of the following nodes are removed []\n",
      "2020-10-21 11:02:54,829 - skater.core.global_interpretation.tree_surrogate - INFO - Done generating prediction using the surrogate, shape (112, 3)\n",
      "2020-10-21 11:02:54,833 - skater.core.global_interpretation.tree_surrogate - INFO - Done scoring, surrogate score 0.0; oracle score 0.027\n",
      "2020-10-21 11:02:54,834 - skater.core.global_interpretation.tree_surrogate - WARNING - impurity score: 0.027 of the surrogate model is higher than the impurity threshold: 0.01. The higher the impurity score, lower is the fidelity/faithfulness of the surrogate model\n"
     ]
    },
    {
     "data": {
      "text/plain": [
       "{'created_by': 'amit.boke@lntinfotech.com',\n",
       " 'created_on': '2020-10-21T11:02:10+00:00',\n",
       " 'deploymentstatus': False,\n",
       " 'description': 'sklearn_iris_v22_a',\n",
       " 'flavour': 'sklearn',\n",
       " 'id': 'bba07e9a-97d3-4b2e-8af9-8d8305fc6f2a',\n",
       " 'last_modified_by': 'amit.boke@lntinfotech.com',\n",
       " 'last_modified_on': '2020-10-21T11:02:10+00:00',\n",
       " 'name': 'sklearn_iris_v22_a',\n",
       " 'project_id': 'b9c02804-b1ca-4103-a3e6-43d454a6ef8a',\n",
       " 'type': 'model',\n",
       " 'versions': [{'created_by': 'amit.boke@lntinfotech.com',\n",
       "   'created_on': '2020-10-21T11:02:10+00:00',\n",
       "   'datasource_name': '',\n",
       "   'deploy_info': None,\n",
       "   'deployments': [],\n",
       "   'description': None,\n",
       "   'docker_image_url': 'registry.lti-aiq.in:443/mosaic-ai-logistics/mosaic-ai-serving:1.0.0-30092020',\n",
       "   'id': '00b5d327-c17e-4b0b-8cbb-d3289fec8d97',\n",
       "   'init_script': '\"pip install --user absl-py==0.10.0\\\\n pip install --user alembic==1.4.3\\\\n pip install --user astor==0.8.1\\\\n pip install --user astroid==2.3.3\\\\n pip install --user async-generator==1.10\\\\n pip install --user attrs==19.3.0\\\\n pip install --user backcall==0.2.0\\\\n pip install --user beautifulsoup4==4.9.3\\\\n pip install --user bleach==3.1.5\\\\n pip install --user blis==0.4.1\\\\n pip install --user bokeh==2.1.1\\\\n pip install --user bs4==0.0.1\\\\n pip install --user cachetools==4.1.1\\\\n pip install --user category-encoders==2.2.2\\\\n pip install --user certifi==2020.6.20\\\\n pip install --user chardet==3.0.4\\\\n pip install --user click==7.1.2\\\\n pip install --user cloudpickle==1.2.2\\\\n pip install --user colorama==0.4.3\\\\n pip install --user commonmark==0.9.1\\\\n pip install --user coverage==5.3\\\\n pip install --user cycler==0.10.0\\\\n pip install --user cymem==2.0.3\\\\n pip install --user dask==2.30.0\\\\n pip install --user dataclasses==0.7\\\\n pip install --user deap==1.3.1\\\\n pip install --user decorator==4.4.2\\\\n pip install --user defusedxml==0.6.0\\\\n pip install --user dill==0.3.2\\\\n pip install --user ds-lime==0.1.1.27\\\\n pip install --user entrypoints==0.3\\\\n pip install --user flasgger==0.9.3\\\\n pip install --user Flask==1.1.1\\\\n pip install --user Flask-Cors==3.0.8\\\\n pip install --user Flask-SQLAlchemy==2.4.3\\\\n pip install --user fonttools==4.16.1\\\\n pip install --user future==0.18.2\\\\n pip install --user gast==0.4.0\\\\n pip install --user google-auth==1.22.1\\\\n pip install --user google-pasta==0.2.0\\\\n pip install --user grpcio==1.32.0\\\\n pip install --user gunicorn==19.9.0\\\\n pip install --user h5py==2.10.0\\\\n pip install --user holoviews==1.13.4\\\\n pip install --user idna==2.8\\\\n pip install --user importlib-metadata==1.7.0\\\\n pip install --user iniconfig==1.0.1\\\\n pip install --user ipykernel==5.3.1\\\\n pip install --user ipyplot==1.0.5\\\\n pip install --user ipython==7.16.1\\\\n pip install --user ipython-genutils==0.2.0\\\\n pip install --user ipywidgets==7.5.1\\\\n pip install --user isort==4.3.21\\\\n pip install --user itsdangerous==1.1.0\\\\n pip install --user jedi==0.17.1\\\\n pip install --user Jinja2==2.11.2\\\\n pip install --user joblib==0.11\\\\n pip install --user jsonpickle==1.2\\\\n pip install --user jsonschema==3.2.0\\\\n pip install --user jupyter==1.0.0\\\\n pip install --user jupyter-client==6.1.5\\\\n pip install --user jupyter-console==6.1.0\\\\n pip install --user jupyter-core==4.6.3\\\\n pip install --user jupyterhub==0.9.4\\\\n pip install --user Keras==2.2.4\\\\n pip install --user Keras-Applications==1.0.8\\\\n pip install --user Keras-Preprocessing==1.1.2\\\\n pip install --user kiwisolver==1.2.0\\\\n pip install --user kubernetes==9.0.0\\\\n pip install --user kyd==0.1.8\\\\n pip install --user lazy-object-proxy==1.4.3\\\\n pip install --user Mako==1.1.3\\\\n pip install --user Markdown==3.3\\\\n pip install --user MarkupSafe==1.1.1\\\\n pip install --user matplotlib==3.1.1\\\\n pip install --user mccabe==0.6.1\\\\n pip install --user minio==4.0.18\\\\n pip install --user mistune==0.8.4\\\\n pip install --user multiprocess==0.70.10\\\\n pip install --user murmurhash==1.0.2\\\\n pip install --user mysql-connector-python==8.0.17\\\\n pip install --user mysql-connector-python-rf==2.2.2\\\\n pip install --user nbconvert==5.6.1\\\\n pip install --user nbformat==5.0.7\\\\n pip install --user networkx==2.5\\\\n pip install --user nltk==3.5\\\\n pip install --user nose==1.3.7\\\\n pip install --user notebook==5.7.0\\\\n pip install --user numpy==1.17.0\\\\n pip install --user oauthlib==3.1.0\\\\n pip install --user packaging==20.4\\\\n pip install --user pamela==1.0.0\\\\n pip install --user pandas==0.25.1\\\\n pip install --user pandas-profiling==1.4.2\\\\n pip install --user pandocfilters==1.4.2\\\\n pip install --user panel==0.9.7\\\\n pip install --user param==1.9.3\\\\n pip install --user parso==0.7.0\\\\n pip install --user patsy==0.5.1\\\\n pip install --user pexpect==4.8.0\\\\n pip install --user pickleshare==0.7.5\\\\n pip install --user Pillow==7.2.0\\\\n pip install --user plac==1.1.3\\\\n pip install --user pluggy==0.13.1\\\\n pip install --user preshed==3.0.2\\\\n pip install --user prometheus-client==0.8.0\\\\n pip install --user prompt-toolkit==3.0.5\\\\n pip install --user protobuf==3.13.0\\\\n pip install --user ptyprocess==0.6.0\\\\n pip install --user py==1.9.0\\\\n pip install --user py-dateinfer==0.4.5\\\\n pip install --user py4j==0.10.4\\\\n pip install --user pyasn1==0.4.8\\\\n pip install --user pyasn1-modules==0.2.8\\\\n pip install --user pyct==0.4.8\\\\n pip install --user pydotplus==2.0.2\\\\n pip install --user Pygments==2.6.1\\\\n pip install --user PyJWT==1.7.1\\\\n pip install --user pylint==2.4.4\\\\n pip install --user PyMySQL==0.10.1\\\\n pip install --user pyparsing==2.4.7\\\\n pip install --user pyrsistent==0.16.0\\\\n pip install --user pyspark==2.1.2\\\\n pip install --user pytest==6.1.1\\\\n pip install --user python-dateutil==2.8.1\\\\n pip install --user python-editor==1.0.4\\\\n pip install --user python-oauth2==1.1.1\\\\n pip install --user pytz==2020.1\\\\n pip install --user pyviz-comms==0.7.6\\\\n pip install --user PyWavelets==1.1.1\\\\n pip install --user PyYAML==5.1.2\\\\n pip install --user pyzmq==19.0.1\\\\n pip install --user qgrid==1.3.1\\\\n pip install --user qtconsole==4.7.5\\\\n pip install --user QtPy==1.9.0\\\\n pip install --user regex==2020.9.27\\\\n pip install --user requests==2.22.0\\\\n pip install --user requests-oauthlib==1.3.0\\\\n pip install --user requests-toolbelt==0.9.1\\\\n pip install --user rich==8.0.0\\\\n pip install --user rsa==4.6\\\\n pip install --user scikit-image==0.14.0\\\\n pip install --user scikit-learn==0.21.3\\\\n pip install --user scipy==1.5.2\\\\n pip install --user Send2Trash==1.5.0\\\\n pip install --user setuptools==49.1.0\\\\n pip install --user simplejson==3.16.0\\\\n pip install --user six==1.15.0\\\\n pip install --user skater==1.1.2\\\\n pip install --user sklearn==0.0\\\\n pip install --user socketIO-client==0.7.2\\\\n pip install --user soupsieve==2.0.1\\\\n pip install --user spacy==2.2.2\\\\n pip install --user SQLAlchemy==1.3.18\\\\n pip install --user srsly==1.0.2\\\\n pip install --user statsmodels==0.12.0\\\\n pip install --user stopit==1.1.2\\\\n pip install --user tabulate==0.8.7\\\\n pip install --user tensorboard==1.14.0\\\\n pip install --user tensorflow==1.14.0\\\\n pip install --user tensorflow-estimator==1.14.0\\\\n pip install --user termcolor==1.1.0\\\\n pip install --user terminado==0.8.3\\\\n pip install --user testpath==0.4.4\\\\n pip install --user thinc==7.3.1\\\\n pip install --user toml==0.10.1\\\\n pip install --user toolz==0.11.1\\\\n pip install --user torch==1.2.0\\\\n pip install --user torchvision==0.4.0\\\\n pip install --user tornado==5.1.1\\\\n pip install --user tqdm==4.50.0\\\\n pip install --user traitlets==4.3.3\\\\n pip install --user typed-ast==1.4.1\\\\n pip install --user typing-extensions==3.7.4.3\\\\n pip install --user update-checker==0.18.0\\\\n pip install --user urllib3==1.25.10\\\\n pip install --user wasabi==0.8.0\\\\n pip install --user wcwidth==0.2.5\\\\n pip install --user webencodings==0.5.1\\\\n pip install --user websocket-client==0.57.0\\\\n pip install --user Werkzeug==1.0.1\\\\n pip install --user wheel==0.34.2\\\\n pip install --user widgetsnbextension==3.5.1\\\\n pip install --user wordcloud==1.3.1\\\\n pip install --user wrapt==1.11.2\\\\n pip install --user xgboost==0.90\\\\n pip install --user zipp==3.1.0\\\\n \\\\n\"',\n",
       "   'input_type': 'json',\n",
       "   'last_modified_by': 'amit.boke@lntinfotech.com',\n",
       "   'last_modified_on': '2020-10-21T11:02:16+00:00',\n",
       "   'metadata_info': None,\n",
       "   'ml_model_id': 'bba07e9a-97d3-4b2e-8af9-8d8305fc6f2a',\n",
       "   'model_class': {'base_estimator': \"DecisionTreeClassifier(class_weight=None, criterion='gini', max_depth=None,\\n                       max_features=None, max_leaf_nodes=None,\\n                       min_impurity_decrease=0.0, min_impurity_split=None,\\n                       min_samples_leaf=1, min_samples_split=2,\\n                       min_weight_fraction_leaf=0.0, presort=False,\\n                       random_state=None, splitter='best')\",\n",
       "    'base_estimator_': \"DecisionTreeClassifier(class_weight=None, criterion='gini', max_depth=None,\\n                       max_features=None, max_leaf_nodes=None,\\n                       min_impurity_decrease=0.0, min_impurity_split=None,\\n                       min_samples_leaf=1, min_samples_split=2,\\n                       min_weight_fraction_leaf=0.0, presort=False,\\n                       random_state=None, splitter='best')\",\n",
       "    'bootstrap': True,\n",
       "    'class': 'sklearn.ensemble.forest.RandomForestClassifier',\n",
       "    'class_weight': None,\n",
       "    'classes_': [0, 1, 2],\n",
       "    'criterion': 'gini',\n",
       "    'estimator_params': ['criterion',\n",
       "     'max_depth',\n",
       "     'min_samples_split',\n",
       "     'min_samples_leaf',\n",
       "     'min_weight_fraction_leaf',\n",
       "     'max_features',\n",
       "     'max_leaf_nodes',\n",
       "     'min_impurity_decrease',\n",
       "     'min_impurity_split',\n",
       "     'random_state'],\n",
       "    'estimators_': [\"DecisionTreeClassifier(class_weight=None, criterion='gini', max_depth=None,\\n                       max_features='auto', max_leaf_nodes=None,\\n                       min_impurity_decrease=0.0, min_impurity_split=None,\\n                       min_samples_leaf=1, min_samples_split=2,\\n                       min_weight_fraction_leaf=0.0, presort=False,\\n                       random_state=843828734, splitter='best')\",\n",
       "     \"DecisionTreeClassifier(class_weight=None, criterion='gini', max_depth=None,\\n                       max_features='auto', max_leaf_nodes=None,\\n                       min_impurity_decrease=0.0, min_impurity_split=None,\\n                       min_samples_leaf=1, min_samples_split=2,\\n                       min_weight_fraction_leaf=0.0, presort=False,\\n                       random_state=914636141, splitter='best')\",\n",
       "     \"DecisionTreeClassifier(class_weight=None, criterion='gini', max_depth=None,\\n                       max_features='auto', max_leaf_nodes=None,\\n                       min_impurity_decrease=0.0, min_impurity_split=None,\\n                       min_samples_leaf=1, min_samples_split=2,\\n                       min_weight_fraction_leaf=0.0, presort=False,\\n                       random_state=1228959102, splitter='best')\",\n",
       "     \"DecisionTreeClassifier(class_weight=None, criterion='gini', max_depth=None,\\n                       max_features='auto', max_leaf_nodes=None,\\n                       min_impurity_decrease=0.0, min_impurity_split=None,\\n                       min_samples_leaf=1, min_samples_split=2,\\n                       min_weight_fraction_leaf=0.0, presort=False,\\n                       random_state=1840268610, splitter='best')\",\n",
       "     \"DecisionTreeClassifier(class_weight=None, criterion='gini', max_depth=None,\\n                       max_features='auto', max_leaf_nodes=None,\\n                       min_impurity_decrease=0.0, min_impurity_split=None,\\n                       min_samples_leaf=1, min_samples_split=2,\\n                       min_weight_fraction_leaf=0.0, presort=False,\\n                       random_state=974319580, splitter='best')\",\n",
       "     \"DecisionTreeClassifier(class_weight=None, criterion='gini', max_depth=None,\\n                       max_features='auto', max_leaf_nodes=None,\\n                       min_impurity_decrease=0.0, min_impurity_split=None,\\n                       min_samples_leaf=1, min_samples_split=2,\\n                       min_weight_fraction_leaf=0.0, presort=False,\\n                       random_state=819844194, splitter='best')\",\n",
       "     \"DecisionTreeClassifier(class_weight=None, criterion='gini', max_depth=None,\\n                       max_features='auto', max_leaf_nodes=None,\\n                       min_impurity_decrease=0.0, min_impurity_split=None,\\n                       min_samples_leaf=1, min_samples_split=2,\\n                       min_weight_fraction_leaf=0.0, presort=False,\\n                       random_state=220395238, splitter='best')\",\n",
       "     \"DecisionTreeClassifier(class_weight=None, criterion='gini', max_depth=None,\\n                       max_features='auto', max_leaf_nodes=None,\\n                       min_impurity_decrease=0.0, min_impurity_split=None,\\n                       min_samples_leaf=1, min_samples_split=2,\\n                       min_weight_fraction_leaf=0.0, presort=False,\\n                       random_state=941243409, splitter='best')\",\n",
       "     \"DecisionTreeClassifier(class_weight=None, criterion='gini', max_depth=None,\\n                       max_features='auto', max_leaf_nodes=None,\\n                       min_impurity_decrease=0.0, min_impurity_split=None,\\n                       min_samples_leaf=1, min_samples_split=2,\\n                       min_weight_fraction_leaf=0.0, presort=False,\\n                       random_state=942612051, splitter='best')\",\n",
       "     \"DecisionTreeClassifier(class_weight=None, criterion='gini', max_depth=None,\\n                       max_features='auto', max_leaf_nodes=None,\\n                       min_impurity_decrease=0.0, min_impurity_split=None,\\n                       min_samples_leaf=1, min_samples_split=2,\\n                       min_weight_fraction_leaf=0.0, presort=False,\\n                       random_state=2109339754, splitter='best')\"],\n",
       "    'max_depth': None,\n",
       "    'max_features': 'auto',\n",
       "    'max_leaf_nodes': None,\n",
       "    'min_impurity_decrease': 0,\n",
       "    'min_impurity_split': None,\n",
       "    'min_samples_leaf': 1,\n",
       "    'min_samples_split': 2,\n",
       "    'min_weight_fraction_leaf': 0,\n",
       "    'n_classes_': 3,\n",
       "    'n_estimators': 10,\n",
       "    'n_features_': 4,\n",
       "    'n_jobs': 10,\n",
       "    'n_outputs_': 1,\n",
       "    'oob_score': False,\n",
       "    'random_state': 123,\n",
       "    'verbose': 0,\n",
       "    'warm_start': False},\n",
       "   'model_info': {'deep_learning_model': False,\n",
       "    'feature_names': ['sepal length (cm)',\n",
       "     'sepal width (cm)',\n",
       "     'petal length (cm)',\n",
       "     'petal width (cm)'],\n",
       "    'min_max_features': [{'data_type': 'numerical',\n",
       "      'feature_name': 'sepal length (cm)',\n",
       "      'max': 7,\n",
       "      'min': 4},\n",
       "     {'data_type': 'numerical',\n",
       "      'feature_name': 'sepal width (cm)',\n",
       "      'max': 4,\n",
       "      'min': 2},\n",
       "     {'data_type': 'numerical',\n",
       "      'feature_name': 'petal length (cm)',\n",
       "      'max': 6,\n",
       "      'min': 1},\n",
       "     {'data_type': 'numerical',\n",
       "      'feature_name': 'petal width (cm)',\n",
       "      'max': 2,\n",
       "      'min': 0}],\n",
       "    'mode': 'classification',\n",
       "    'number_of_features': 4,\n",
       "    'target_names': ['setosa', 'versicolor', 'virginica'],\n",
       "    'temp_dir': ''},\n",
       "   'object_url': 'bba07e9a-97d3-4b2e-8af9-8d8305fc6f2a/00b5d327-c17e-4b0b-8cbb-d3289fec8d97/ml_model.tar.gz',\n",
       "   'profiling': [],\n",
       "   'schema': {},\n",
       "   'status': 'active',\n",
       "   'target_names': {'target': ['setosa', 'versicolor', 'virginica']},\n",
       "   'version_no': 1,\n",
       "   'detailed_matrix': '{\"tag\": \"detailed_matrix\", \"model_metric_value\": {\"Accuracy Score\": 0.8947368421052632, \"Average Precision Score\": null, \"Balanced Accuracy Score\": 0.9047619047619048, \"Brier Score Loss\": null, \"Matthews Correlation Coefficient\": 0.8547320749391972, \"F1 Score\": 0.8964912280701753, \"F-beta Score\": 0.9125591757170705, \"Log Loss\": null, \"Precision Score\": 0.9298245614035087, \"Recall Score\": 0.8947368421052632, \"Zero One Loss\": 0.10526315789473684}}'}]}"
      ]
     },
     "execution_count": 37,
     "metadata": {},
     "output_type": "execute_result"
    }
   ],
   "source": [
    "register_model(clf_2,\n",
    "                score_2,\n",
    "                \"sklearn_iris_v22_a\",\n",
    "                \"sklearn_iris_v22_a\",\n",
    "                MLModelFlavours.sklearn,\n",
    "                input_type=\"json\",\n",
    "                explain_ai=True,\n",
    "                x_train=xtrain2, \n",
    "                y_train=ytrain2,\n",
    "                y_true=ytest2,\n",
    "                y_pred=y_pred2,\n",
    "                model_type=\"classification\",\n",
    "                prob=prob_2,\n",
    "                feature_names=iris.feature_names,\n",
    "                feature_ids=iris.feature_names,\n",
    "                target_names=iris.target_names.tolist()\n",
    "              )"
   ]
  },
  {
   "cell_type": "markdown",
   "metadata": {},
   "source": [
    "# Ensemble model registration"
   ]
  },
  {
   "cell_type": "code",
   "execution_count": null,
   "metadata": {},
   "outputs": [],
   "source": [
    "from mosaicml import *\n",
    "from mosaicml.constants import MLModelFlavours"
   ]
  },
  {
   "cell_type": "code",
   "execution_count": 22,
   "metadata": {},
   "outputs": [],
   "source": [
    "import requests\n",
    "req_ensemble = requests.Request()\n",
    "req_ensemble1 = requests.Request()\n",
    "req_ensemble2 = requests.Request()\n",
    "req_ensemble1.json = {\"payload\":[[5.8, 2.8, 5.1, 2.4]]}\n",
    "req_ensemble2.json = {\"payload\":[[5.8, 2.8, 5.1, 2.4]]}\n",
    "req_ensemble.json = {\"model1\":{\"payload\":[[5.8, 2.8, 5.1, 2.4],\n",
    "       [6.0 , 2.2, 4.0 , 1.0 ]]},\"model2\":{\"payload\":[[5.8, 2.8, 5.1, 2.4],\n",
    "       [6.0 , 2.2, 4.0 , 1.0 ]]}}"
   ]
  },
  {
   "cell_type": "markdown",
   "metadata": {},
   "source": [
    "### Ensemble model Score function"
   ]
  },
  {
   "cell_type": "code",
   "execution_count": 23,
   "metadata": {},
   "outputs": [],
   "source": [
    "import json\n",
    "@scoring_func\n",
    "def score_ensemble(model_dict, request):\n",
    "    model1=model_dict[\"0a452277-9602-414f-8c20-844ad3f6d5db\"][\"model_object\"]\n",
    "    score1=model_dict[\"0a452277-9602-414f-8c20-844ad3f6d5db\"][\"score_object\"]\n",
    "    model2=model_dict[\"a262a8b9-a295-4cec-8961-84d9b7393cac\"][\"model_object\"]\n",
    "    score2=model_dict[\"a262a8b9-a295-4cec-8961-84d9b7393cac\"][\"score_object\"]\n",
    "    request1=request.json[\"model1\"]\n",
    "    request2=request.json[\"model2\"]\n",
    "    import numpy as np\n",
    "    import requests\n",
    "    req_ensemble1 = requests.Request()\n",
    "    req_ensemble2 = requests.Request()\n",
    "    req_ensemble1.json=request1\n",
    "    req_ensemble2.json=request2\n",
    "    a=score1(model1,req_ensemble1)\n",
    "    b=score2(model2,req_ensemble2)\n",
    "    model1_prob = np.array(a)\n",
    "    model2_prob = np.array(b)\n",
    "    final_prob = model1_prob*0.5 + model2_prob*0.5\n",
    "    return final_prob.tolist()"
   ]
  },
  {
   "cell_type": "markdown",
   "metadata": {},
   "source": [
    "# Registering Ensemble Model"
   ]
  },
  {
   "cell_type": "code",
   "execution_count": 24,
   "metadata": {
    "scrolled": true
   },
   "outputs": [
    {
     "name": "stdout",
     "output_type": "stream",
     "text": [
      "Help on function register_ensemble_model in module mosaicml.api:\n",
      "\n",
      "register_ensemble_model(name, description, version_list, scoring_func, init_script=None)\n",
      "    Register ensemble model to the mosaic ai server\n",
      "    \n",
      "    Args:\n",
      "        name (string): name of the model\n",
      "        description (string): description of the model\n",
      "        version_list (list): list of versions of dependent models required for final prediction\n",
      "        E.g [ \"v1\", \"v2\"]\n",
      "        scoring_func (function): function to be used for scoring\n",
      "        init_script(string):script provided by user\n",
      "    Returns:\n",
      "        dict\n",
      "\n"
     ]
    }
   ],
   "source": [
    "help(register_ensemble_model)"
   ]
  },
  {
   "cell_type": "code",
   "execution_count": 25,
   "metadata": {},
   "outputs": [],
   "source": [
    "version_list = [\"0a452277-9602-414f-8c20-844ad3f6d5db\",\"a262a8b9-a295-4cec-8961-84d9b7393cac\"]"
   ]
  },
  {
   "cell_type": "code",
   "execution_count": 26,
   "metadata": {},
   "outputs": [
    {
     "data": {
      "text/plain": [
       "{'created_by': 'kunal',\n",
       " 'created_on': '2020-10-15T06:22:28+00:00',\n",
       " 'deploymentstatus': False,\n",
       " 'description': 'testing',\n",
       " 'flavour': 'ensemble',\n",
       " 'id': '1b24a132-1a55-4603-834e-83f986b33d7f',\n",
       " 'last_modified_by': 'kunal',\n",
       " 'last_modified_on': '2020-10-15T06:22:28+00:00',\n",
       " 'name': 'first_ensemble_model_iris_33',\n",
       " 'project_id': 'b9c02804-b1ca-4103-a3e6-43d454a6ef8a',\n",
       " 'type': 'model',\n",
       " 'versions': [{'created_by': 'kunal',\n",
       "   'created_on': '2020-10-15T06:22:28+00:00',\n",
       "   'datasource_name': '',\n",
       "   'deploy_info': None,\n",
       "   'deployments': [],\n",
       "   'description': None,\n",
       "   'docker_image_url': 'registry.lti-aiq.in:443/mosaic-ai-logistics/mosaic-ai-serving:1.0.0-30092020',\n",
       "   'id': '8ec9ad09-29e5-489d-b608-2b81b1e84b2b',\n",
       "   'init_script': '\"pip install --user absl-py==0.9.0 alembic==1.4.2 astor==0.8.1 async-generator==1.10 attrs==19.3.0 backcall==0.1.0 beautifulsoup4==4.9.1 bleach==3.1.3 blis==0.4.1 bs4==0.0.1 cachetools==4.1.1 category-encoders==2.2.2 certifi==2020.6.20 chardet==3.0.4 click==7.1.1 cloudpickle==1.2.2 coverage==5.1 cycler==0.10.0 cymem==2.0.3 dask==2.19.0 deap==1.3.1 decorator==4.4.2 defusedxml==0.6.0 dill==0.3.2 ds-lime==0.1.1.27 entrypoints==0.3 Flask==1.1.1 Flask-SQLAlchemy==2.4.1 future==0.18.2 gast==0.3.3 google-auth==1.18.0 google-pasta==0.2.0 grpcio==1.30.0 h5py==2.10.0 idna==2.8 importlib-metadata==1.5.0 ipykernel==5.1.4 ipython==7.11.1 ipython-genutils==0.2.0 ipywidgets==7.5.1 itsdangerous==1.1.0 jedi==0.16.0 Jinja2==2.10 joblib==0.11 jsonpickle==1.2 jsonschema==3.2.0 jupyter==1.0.0 jupyter-client==6.1.0 jupyter-console==6.1.0 jupyter-core==4.6.3 jupyterhub==0.9.4 Keras==2.2.4 Keras-Applications==1.0.8 Keras-Preprocessing==1.1.2 kiwisolver==1.2.0 kubernetes==9.0.0 Mako==1.1.3 Markdown==3.2.2 MarkupSafe==1.1.1 matplotlib==3.1.1 minio==4.0.18 mistune==0.8.4 more-itertools==8.4.0 mosaic-connector-python==1.0.0 multiprocess==0.70.10 murmurhash==1.0.2 mysql-connector-python-rf==2.2.2 nbconvert==5.6.1 nbformat==5.0.4 networkx==2.4 nltk==3.5 nose==1.3.7 notebook==5.7.0 numpy==1.19.0 oauthlib==3.1.0 packaging==20.4 pamela==1.0.0 pandas==0.24.2 pandas-profiling==1.4.2 pandocfilters==1.4.2 parso==0.6.2 patsy==0.5.1 pexpect==4.8.0 pickleshare==0.7.5 Pillow==7.2.0 pip==19.1 plac==1.1.3 pluggy==0.13.1 preshed==3.0.2 prometheus-client==0.7.1 prompt-toolkit==3.0.4 protobuf==3.12.2 ptyprocess==0.6.0 py==1.9.0 py-dateinfer==0.4.5 py4j==0.10.4 pyasn1==0.4.8 pyasn1-modules==0.2.8 pydotplus==2.0.2 Pygments==2.6.1 PyJWT==1.7.1 PyMySQL==0.9.3 pyparsing==2.4.7 pyrsistent==0.15.7 pyspark==2.1.2 pytest==5.4.3 python-dateutil==2.8.1 python-editor==1.0.4 python-oauth2==1.1.1 pytz==2020.1 PyWavelets==1.1.1 PyYAML==5.1.2 pyzmq==19.0.0 qtconsole==4.7.1 QtPy==1.9.0 regex==2020.6.8 requests==2.22.0 requests-oauthlib==1.3.0 requests-toolbelt==0.9.1 rsa==4.6 scikit-image==0.14.0 scikit-learn==0.21.3 scipy==1.5.0 Send2Trash==1.5.0 setuptools==46.0.0 simplejson==3.16.0 six==1.14.0 skater==1.1.2 sklearn==0.0 socketIO-client==0.7.2 soupsieve==2.0.1 spacy==2.2.2 SQLAlchemy==1.3.15 srsly==1.0.2 statsmodels==0.11.1 stopit==1.1.2 tensorboard==1.14.0 tensorflow==1.14.0 tensorflow-estimator==1.14.0 termcolor==1.1.0 terminado==0.8.3 testpath==0.4.4 thinc==7.3.1 toolz==0.10.0 torch==1.2.0 torchvision==0.4.0 tornado==5.1.1 tqdm==4.47.0 traitlets==4.3.3 update-checker==0.17 urllib3==1.25.9 wasabi==0.7.0 wcwidth==0.1.8 webencodings==0.5.1 websocket-client==0.57.0 Werkzeug==1.0.0 wheel==0.34.2 widgetsnbextension==3.5.1 wordcloud==1.3.1 wrapt==1.12.1 xgboost==0.90 zipp==3.1.0 \\\\n\"',\n",
       "   'input_type': 'json',\n",
       "   'last_modified_by': 'kunal',\n",
       "   'last_modified_on': '2020-10-15T06:22:29+00:00',\n",
       "   'metadata_info': None,\n",
       "   'ml_model_id': '1b24a132-1a55-4603-834e-83f986b33d7f',\n",
       "   'model_class': {'class': 'NoneType'},\n",
       "   'model_info': {},\n",
       "   'object_url': '1b24a132-1a55-4603-834e-83f986b33d7f/8ec9ad09-29e5-489d-b608-2b81b1e84b2b/ml_model.tar.gz',\n",
       "   'profiling': [],\n",
       "   'schema': {},\n",
       "   'status': 'active',\n",
       "   'target_names': {'target': None},\n",
       "   'version_no': 1}]}"
      ]
     },
     "execution_count": 26,
     "metadata": {},
     "output_type": "execute_result"
    }
   ],
   "source": [
    "register_ensemble_model(name=\"first_ensemble_model_iris_33\",description=\"testing\",version_list=version_list,scoring_func=score_ensemble)"
   ]
  },
  {
   "cell_type": "code",
   "execution_count": null,
   "metadata": {},
   "outputs": [],
   "source": []
  }
 ],
 "metadata": {
  "kernelspec": {
   "display_name": "Python 3",
   "language": "python",
   "name": "python3"
  },
  "language_info": {
   "codemirror_mode": {
    "name": "ipython",
    "version": 3
   },
   "file_extension": ".py",
   "mimetype": "text/x-python",
   "name": "python",
   "nbconvert_exporter": "python",
   "pygments_lexer": "ipython3",
   "version": "3.6.13"
  }
 },
 "nbformat": 4,
 "nbformat_minor": 4
}
